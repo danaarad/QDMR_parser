{
 "cells": [
  {
   "cell_type": "code",
   "execution_count": 15,
   "metadata": {},
   "outputs": [
    {
     "name": "stdout",
     "output_type": "stream",
     "text": [
      "* Original QDMR: \n",
      "return H. V. Jagadish ;return papers of #1 ;return #2 that  are on PVLDB ;return citations of #3 ;return number of  #4 for each #3 ;return #3 where #5 is  higher than 200\n",
      "\n",
      "* Identified steps: \n",
      "[\"SELECT['H. V. Jagadish']\", \"PROJECT['papers of #REF', '#1']\", \"FILTER['#2', 'that are on PVLDB']\", \"PROJECT['citations of #REF', '#3']\", \"GROUP['count', '#4', '#3']\", \"COMPARATIVE['#3', '#5', 'is higher than 200']\"]\n",
      "\n",
      "* Identified operators: \n",
      "['select', 'project', 'filter', 'project', 'group', 'comparative']\n",
      "\n"
     ]
    }
   ],
   "source": [
    "# QDMR program builder test\n",
    "\n",
    "from qdmr_identifier import *\n",
    "\n",
    "qdmr = \"return H. V. Jagadish ;return papers of #1 ;return #2 that  are on PVLDB ;return citations of #3 ;return number of  #4 for each #3 ;return #3 where #5 is  higher than 200\"\n",
    "print(\"* Original QDMR: \\n%s\\n\" % qdmr)\n",
    "builder = QDMRProgramBuilder(qdmr)\n",
    "builder.build()\n",
    "steps = [str(step) for step in builder.steps]\n",
    "print(\"* Identified steps: \\n%a\\n\" % steps)\n",
    "ops = [str(op) for op in builder.operators]\n",
    "print(\"* Identified operators: \\n%a\\n\" % ops)"
   ]
  },
  {
   "cell_type": "code",
   "execution_count": 3,
   "metadata": {},
   "outputs": [
    {
     "name": "stdout",
     "output_type": "stream",
     "text": [
      "Unable to identify step: how far from #3 is #5\n",
      "Unable to identify step: how far from #3 is #2\n",
      "Unable to identify step: if all #1 are in both #4 and #5\n",
      "Unable to identify step: the #2 in the middle of #1\n",
      "Unable to identify step: are both #2 larger than all #4\n",
      "Unable to identify step: number of #3 where #4 is same as #6\n",
      "Unable to identify step: number of #5 where #6 is same as #4\n",
      "Unable to identify step: if a #5 is the same as #4\n",
      "Unable to identify step: what is #1 to #2\n",
      "Unable to identify step: age of #1 in #2\n",
      "Unable to identify step: boarder between #1 and #2\n",
      "Unable to identify step: year that #1 write #2\n",
      "Unable to identify step: range that separates #1 and #2\n",
      "Unable to identify step: what is between #1 and #2\n",
      "Unable to identify step: border between #1 and #2\n",
      "Unable to identify step: body of water between #1 and #2\n",
      "Unable to identify step: borders of #2 with #1\n",
      "Unable to identify step: border of #1 with #3\n",
      "Unable to identify step: border of #2 with #3\n",
      "Unable to identify step: year that #1 write #2\n",
      "Unable to identify step: team that won both #3 and #4\n",
      "Unable to identify step: age of #1 in #2\n",
      "Unable to identify step: when did #1 join #2\n",
      "Unable to identify step: gpa of #1 at #2\n",
      "Unable to identify step: country between #1 and #2\n",
      "Unable to identify step: what borders both #1 and #2\n",
      "Unable to identify step: what is between #1 and #2\n",
      "Unable to identify step: when was #1 married to #2\n",
      "Unable to identify step: age of #1 in #2\n",
      "Unable to identify step: when did #1 divorce #3\n",
      "Unable to identify step: who did #1 run against for each election of president\n",
      "Unable to identify step: years that #1 has been married to #2\n",
      "Unable to identify step: date that #1 write #2\n",
      "Unable to identify step: the #1 that established #2\n",
      "Unable to identify step: who did #2 take #1 from\n",
      "Unable to identify step: when does #1 win #2\n",
      "Unable to identify step: sea that separates #1 from #2\n",
      "Unable to identify step: sea that separates #1 and #2\n",
      "Unable to identify step: borders of #1 with #2\n",
      "Unable to identify step: If I Never See Your Face Again ( remix edit )\n",
      "Unable to identify step: who worked throughout the 1920s-1950s at both #1 and #2\n",
      "Unable to identify step: points of #1 for each #2\n",
      "Unable to identify step: the difference of #2 and 30 for each #1\n",
      "Unable to identify step: number of #1 where #2 is visible\n",
      "Annotation evaluation done. Updating annotations statistics.\n",
      "Done updating annotations satistics.\n"
     ]
    },
    {
     "data": {
      "text/plain": [
       "True"
      ]
     },
     "execution_count": 3,
     "metadata": {},
     "output_type": "execute_result"
    }
   ],
   "source": [
    "# Annotation Evaluation\n",
    "from annotation_statistics import *\n",
    "\n",
    "annotation_evaluator = AnnotationEvaluator(\"example_annotation_log.csv\")\n",
    "annotation_evaluator.evaluate()"
   ]
  },
  {
   "cell_type": "code",
   "execution_count": 4,
   "metadata": {},
   "outputs": [
    {
     "name": "stdout",
     "output_type": "stream",
     "text": [
      "* QDMR operator Prevalence:\n",
      "-- Prevalence of operator None : 31\n",
      "-- Prevalence of operator aggregate : 3167\n",
      "-- Prevalence of operator arithmetic : 453\n",
      "-- Prevalence of operator boolean : 2523\n",
      "-- Prevalence of operator comparative : 1214\n",
      "-- Prevalence of operator comparison : 302\n",
      "-- Prevalence of operator discard : 226\n",
      "-- Prevalence of operator filter : 4159\n",
      "-- Prevalence of operator group : 659\n",
      "-- Prevalence of operator intersection : 207\n",
      "-- Prevalence of operator project : 5295\n",
      "-- Prevalence of operator select : 7758\n",
      "-- Prevalence of operator sort : 22\n",
      "-- Prevalence of operator superlative : 197\n",
      "-- Prevalence of operator union : 278\n",
      "* QDMR step lengths:\n",
      "-- Steps of length 1 : 11\n",
      "-- Steps of length 2 : 972\n",
      "-- Steps of length 3 : 1903\n",
      "-- Steps of length 4 : 1499\n",
      "-- Steps of length 5 : 1198\n",
      "-- Steps of length 6 : 698\n",
      "-- Steps of length 7 : 488\n",
      "-- Steps of length 8 : 253\n",
      "-- Steps of length 9 : 195\n",
      "-- Steps of length 10 : 129\n",
      "-- Steps of length 11 : 92\n",
      "-- Steps of length 12 : 73\n",
      "-- Steps of length 13 : 58\n",
      "-- Steps of length 14 : 56\n",
      "-- Steps of length 15 : 45\n",
      "-- Steps of length 16 : 29\n",
      "-- Steps of length 17 : 22\n",
      "-- Steps of length 18 : 24\n",
      "-- Steps of length 19 : 10\n",
      "-- Steps of length 20 : 3\n",
      "-- Steps of length 21 : 2\n",
      "{'filter': 4159, 'select': 7758, 'project': 5295, 'comparative': 1214, 'union': 278, 'aggregate': 3167, 'boolean': 2523, 'group': 659, 'superlative': 197, 'discard': 226, 'intersection': 207, 'comparison': 302, 'arithmetic': 453, 'sort': 22, 'None': 31}\n",
      "{4: 1499, 3: 1903, 5: 1198, 6: 698, 2: 972, 1: 11, 7: 488, 8: 253, 11: 92, 9: 195, 10: 129, 13: 58, 14: 56, 15: 45, 18: 24, 19: 10, 17: 22, 16: 29, 12: 73, 20: 3, 21: 2}\n"
     ]
    }
   ],
   "source": [
    "# Print annotation QDMR statistics\n",
    "annotation_evaluator.print_stats()"
   ]
  },
  {
   "cell_type": "code",
   "execution_count": null,
   "metadata": {},
   "outputs": [],
   "source": []
  }
 ],
 "metadata": {
  "kernelspec": {
   "display_name": "Python 3",
   "language": "python",
   "name": "python3"
  },
  "language_info": {
   "codemirror_mode": {
    "name": "ipython",
    "version": 3
   },
   "file_extension": ".py",
   "mimetype": "text/x-python",
   "name": "python",
   "nbconvert_exporter": "python",
   "pygments_lexer": "ipython3",
   "version": "3.6.5"
  }
 },
 "nbformat": 4,
 "nbformat_minor": 2
}
